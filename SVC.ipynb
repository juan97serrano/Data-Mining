{
 "cells": [
  {
   "cell_type": "markdown",
   "metadata": {},
   "source": [
    "# Práctica 3\n",
    "\n",
    "## Ejercicio 3\n",
    "\n",
    "## Autores : Jorge Martín Pastor y Juan Serrano Vara\n",
    "\n",
    "## 26 nov 2018"
   ]
  },
  {
   "cell_type": "markdown",
   "metadata": {},
   "source": [
    "<h1 align = \"center\" style=\"background-color:powderblue;\"> Importamos las librerias</h1>\n"
   ]
  },
  {
   "cell_type": "code",
   "execution_count": 177,
   "metadata": {},
   "outputs": [
    {
     "name": "stdout",
     "output_type": "stream",
     "text": [
      "Once deleted, variables cannot be recovered. Proceed (y/[n])? y\n"
     ]
    }
   ],
   "source": [
    "%reset\n",
    "import pandas as pd\n",
    "from sklearn import tree\n",
    "from sklearn.model_selection import train_test_split\n",
    "from sklearn.tree import DecisionTreeClassifier\n",
    "from sklearn.metrics import classification_report, confusion_matrix\n",
    "from sklearn import metrics\n",
    "from sklearn import datasets, svm, metrics\n",
    "import numpy as np\n",
    "from sklearn.neighbors import KNeighborsClassifier\n",
    "from sklearn.datasets import load_digits\n",
    "import matplotlib.pyplot as plt \n"
   ]
  },
  {
   "cell_type": "markdown",
   "metadata": {},
   "source": [
    "<h1 align = \"center\" style=\"background-color:powderblue;\"> Importamos los datos</h1>\n"
   ]
  },
  {
   "cell_type": "code",
   "execution_count": 178,
   "metadata": {
    "scrolled": false
   },
   "outputs": [
    {
     "data": {
      "text/plain": [
       "<Figure size 432x288 with 0 Axes>"
      ]
     },
     "metadata": {},
     "output_type": "display_data"
    },
    {
     "data": {
      "image/png": "[encoded data removed]",
      "text/plain": [
       "<Figure size 288x288 with 1 Axes>"
      ]
     },
     "metadata": {},
     "output_type": "display_data"
    }
   ],
   "source": [
    "digits = load_digits()\n",
    "\n",
    "## Pintamos un digito de ejemplo\n",
    "plt.gray() \n",
    "plt.matshow(digits.images[0]) \n",
    "plt.show() "
   ]
  },
  {
   "cell_type": "markdown",
   "metadata": {},
   "source": [
    "<h1 align = \"center\" style=\"background-color:powderblue;\">EJERCICIO 1</h1>"
   ]
  },
  {
   "cell_type": "markdown",
   "metadata": {},
   "source": [
    "### Proprocesamiento de los datos"
   ]
  },
  {
   "cell_type": "code",
   "execution_count": 179,
   "metadata": {},
   "outputs": [
    {
     "name": "stdout",
     "output_type": "stream",
     "text": [
      "Shape original de los datos:  (1797, 8, 8)\n",
      "Shape final de los datos (1797, 64)\n"
     ]
    }
   ],
   "source": [
    "# Seleccionamos los datos del data set\n",
    "# Con digits.images cogemos las imagenes mientras que con .target cogemos las etiquetas.\n",
    "Etiqueta = digits.target\n",
    "Datos = digits.images\n",
    "\n",
    "# Shape original de los datos\n",
    "print('Shape original de los datos: ',digits.images.shape)\n",
    "\n",
    "# Como no podemos meter al clasificador datos en tres dimensiones lo pasamos a 2.\n",
    "len_Datos = len(digits.images)\n",
    "Datos = digits.images.reshape((len_Datos, -1))\n",
    "print('Shape final de los datos',Datos.shape)\n"
   ]
  },
  {
   "cell_type": "markdown",
   "metadata": {},
   "source": [
    "### Creamos el conjunto de entrenamiento y el de validación"
   ]
  },
  {
   "cell_type": "markdown",
   "metadata": {},
   "source": [
    "Como para el ejercicio 2 de la práctica se nos pide que seleccionemos 5 números que no se hayan presentado ni en el entrenamientro ni en la validación, seleccionaremos el 80% de los datos para entrenar, el 20% para evaluar,  y a la cantidad de datos de validar le quitaremos 5 datos pata el ejercicio2."
   ]
  },
  {
   "cell_type": "code",
   "execution_count": 180,
   "metadata": {},
   "outputs": [
    {
     "name": "stdout",
     "output_type": "stream",
     "text": [
      "(5, 64)\n",
      "(1437, 64)\n"
     ]
    }
   ],
   "source": [
    "# Seleccioamos el 80% y el 20%\n",
    "X_train, X_test, y_train, y_test = train_test_split(Datos, Etiqueta, test_size=0.20,shuffle=False)\n",
    "\n",
    "# Como en X test tenemos 360 datos cogemos los últimos 5 y los eliminamos de x_test e y_test\n",
    "numero = len(X_test)-5\n",
    "\n",
    "X_Ej2 = X_test[numero:]\n",
    "\n",
    "# Quitamos los 5 últimos datos de x_test e y_test\n",
    "# De la siguiente manera eliminamos el último número del array y_train 5 veces, es decir, quitamos 5 veces el ultimo\n",
    "X_test = np.delete(X_test, -1, 0) \n",
    "X_test = np.delete(X_test, -1, 0)\n",
    "X_test = np.delete(X_test, -1, 0)\n",
    "X_test = np.delete(X_test, -1, 0)\n",
    "X_test = np.delete(X_test, -1, 0)\n",
    "\n",
    "y_test = np.delete(y_test, -1, 0) \n",
    "y_test = np.delete(y_test, -1, 0)\n",
    "y_test = np.delete(y_test, -1, 0)\n",
    "y_test = np.delete(y_test, -1, 0)\n",
    "y_test = np.delete(y_test, -1, 0)\n",
    "\n",
    "\n",
    "print(X_Ej2.shape)\n",
    "print(X_train.shape)"
   ]
  },
  {
   "cell_type": "markdown",
   "metadata": {},
   "source": [
    "<h1 align = \"center\" style=\"background-color:powderblue;\"> EJERCICIO 1: Crea un clasificador que permita saber qué número es a partir de una imagen de este</h1>\n"
   ]
  },
  {
   "cell_type": "markdown",
   "metadata": {},
   "source": [
    "<h1 style=\"background-color:powderblue;\"> Configuración 1</h1>\n"
   ]
  },
  {
   "cell_type": "markdown",
   "metadata": {},
   "source": [
    "gamma = \"El parámetro gamma define hasta qué punto llega la influencia de un solo ejemplo de entrenamiento, con valores bajos que significan \"lejos\" y valores altos que significan \"cerca\". Los parámetros gamma pueden verse como el inverso del radio de influencia de las muestras seleccionadas por el modelo como vectores de soporte\"."
   ]
  },
  {
   "cell_type": "markdown",
   "metadata": {},
   "source": [
    "La validación del modelo se podría realizar con score, pero hemos preferido realizarlo nosotros manualmente prediciendo y comparando con el resultado esperado. "
   ]
  },
  {
   "cell_type": "markdown",
   "metadata": {},
   "source": [
    "Ejemplo con un valor para gamma muy bajo"
   ]
  },
  {
   "cell_type": "code",
   "execution_count": 181,
   "metadata": {},
   "outputs": [
    {
     "name": "stdout",
     "output_type": "stream",
     "text": [
      "Classification report for classifier SVC(C=1.0, cache_size=200, class_weight=None, coef0=0.0,\n",
      "  decision_function_shape='ovr', degree=3, gamma=0.001, kernel='rbf',\n",
      "  max_iter=-1, probability=False, random_state=None, shrinking=True,\n",
      "  tol=0.001, verbose=False):\n",
      "             precision    recall  f1-score   support\n",
      "\n",
      "          0       1.00      0.97      0.99        34\n",
      "          1       0.97      1.00      0.99        36\n",
      "          2       1.00      1.00      1.00        35\n",
      "          3       0.97      0.81      0.88        37\n",
      "          4       0.97      0.92      0.94        37\n",
      "          5       0.93      1.00      0.96        37\n",
      "          6       1.00      1.00      1.00        37\n",
      "          7       0.97      1.00      0.99        36\n",
      "          8       0.83      0.94      0.88        31\n",
      "          9       0.94      0.94      0.94        35\n",
      "\n",
      "avg / total       0.96      0.96      0.96       355\n",
      "\n",
      "\n",
      "Confusion matrix:\n",
      "[[33  0  0  0  1  0  0  0  0  0]\n",
      " [ 0 36  0  0  0  0  0  0  0  0]\n",
      " [ 0  0 35  0  0  0  0  0  0  0]\n",
      " [ 0  0  0 30  0  2  0  1  4  0]\n",
      " [ 0  0  0  0 34  0  0  0  2  1]\n",
      " [ 0  0  0  0  0 37  0  0  0  0]\n",
      " [ 0  0  0  0  0  0 37  0  0  0]\n",
      " [ 0  0  0  0  0  0  0 36  0  0]\n",
      " [ 0  1  0  0  0  0  0  0 29  1]\n",
      " [ 0  0  0  1  0  1  0  0  0 33]]\n"
     ]
    }
   ],
   "source": [
    "# Creamos el clasificador\n",
    "classifier1 = svm.SVC(gamma=0.001)\n",
    "\n",
    "# Entrenamos el clasificador\n",
    "classifier1.fit(X_train, y_train)\n",
    "\n",
    "# Predecimos \n",
    "predicted = classifier1.predict(X_test)\n",
    "\n",
    "# Las siguientes matrices nos indican el nivel de precisión de la predicción\n",
    "print(\"Classification report for classifier %s:\\n%s\\n\"\n",
    "      % (classifier1, metrics.classification_report(y_test, predicted)))\n",
    "print(\"Confusion matrix:\\n%s\" % metrics.confusion_matrix(y_test, predicted))\n"
   ]
  },
  {
   "cell_type": "markdown",
   "metadata": {},
   "source": [
    "### Explicación de las variables de la tabla mostrada con anterioridad"
   ]
  },
  {
   "cell_type": "markdown",
   "metadata": {},
   "source": [
    "<img src=\"explicacion precision.png\"/>"
   ]
  },
  {
   "cell_type": "markdown",
   "metadata": {},
   "source": [
    "Como podemos observar nuestro modelo predictivo tiene un gran porcentaje de predecir correctamente."
   ]
  },
  {
   "cell_type": "markdown",
   "metadata": {},
   "source": [
    "<h1 style=\"background-color:powderblue;\"> Configuración 2</h1>"
   ]
  },
  {
   "cell_type": "markdown",
   "metadata": {},
   "source": [
    "Ejemplo con un valor para gama muy alto"
   ]
  },
  {
   "cell_type": "code",
   "execution_count": 182,
   "metadata": {},
   "outputs": [
    {
     "name": "stdout",
     "output_type": "stream",
     "text": [
      "Classification report for classifier SVC(C=1.0, cache_size=200, class_weight=None, coef0=0.0,\n",
      "  decision_function_shape='ovr', degree=3, gamma=1, kernel='rbf',\n",
      "  max_iter=-1, probability=False, random_state=None, shrinking=True,\n",
      "  tol=0.001, verbose=False):\n",
      "             precision    recall  f1-score   support\n",
      "\n",
      "          0       0.00      0.00      0.00        34\n",
      "          1       0.00      0.00      0.00        36\n",
      "          2       0.00      0.00      0.00        35\n",
      "          3       0.10      1.00      0.19        37\n",
      "          4       0.00      0.00      0.00        37\n",
      "          5       0.00      0.00      0.00        37\n",
      "          6       0.00      0.00      0.00        37\n",
      "          7       0.00      0.00      0.00        36\n",
      "          8       0.00      0.00      0.00        31\n",
      "          9       0.00      0.00      0.00        35\n",
      "\n",
      "avg / total       0.01      0.10      0.02       355\n",
      "\n",
      "\n",
      "Confusion matrix:\n",
      "[[ 0  0  0 34  0  0  0  0  0  0]\n",
      " [ 0  0  0 36  0  0  0  0  0  0]\n",
      " [ 0  0  0 35  0  0  0  0  0  0]\n",
      " [ 0  0  0 37  0  0  0  0  0  0]\n",
      " [ 0  0  0 37  0  0  0  0  0  0]\n",
      " [ 0  0  0 37  0  0  0  0  0  0]\n",
      " [ 0  0  0 37  0  0  0  0  0  0]\n",
      " [ 0  0  0 36  0  0  0  0  0  0]\n",
      " [ 0  0  0 31  0  0  0  0  0  0]\n",
      " [ 0  0  0 35  0  0  0  0  0  0]]\n"
     ]
    },
    {
     "name": "stderr",
     "output_type": "stream",
     "text": [
      "/Users/juan/anaconda3/lib/python3.6/site-packages/sklearn/metrics/classification.py:1135: UndefinedMetricWarning: Precision and F-score are ill-defined and being set to 0.0 in labels with no predicted samples.\n",
      "  'precision', 'predicted', average, warn_for)\n"
     ]
    }
   ],
   "source": [
    "# Creamos el clasificador\n",
    "classifier2 = svm.SVC(gamma=1)\n",
    "\n",
    "# Entrenamos el clasificador\n",
    "classifier2.fit(X_train, y_train)\n",
    "\n",
    "# Predecimos \n",
    "predicted = classifier2.predict(X_test)\n",
    "\n",
    "\n",
    "# Las siguientes matrices nos indican el nivel de precisión de la predicción\n",
    "print(\"Classification report for classifier %s:\\n%s\\n\"\n",
    "      % (classifier2, metrics.classification_report(y_test, predicted)))\n",
    "print(\"Confusion matrix:\\n%s\" % metrics.confusion_matrix(y_test, predicted))"
   ]
  },
  {
   "cell_type": "markdown",
   "metadata": {},
   "source": [
    "<h1 style=\"background-color:powderblue;\"> Configuración 3</h1>"
   ]
  },
  {
   "cell_type": "code",
   "execution_count": 183,
   "metadata": {},
   "outputs": [
    {
     "name": "stdout",
     "output_type": "stream",
     "text": [
      "Classification report for classifier LinearSVC(C=1.0, class_weight=None, dual=True, fit_intercept=True,\n",
      "     intercept_scaling=1, loss='squared_hinge', max_iter=1000,\n",
      "     multi_class='ovr', penalty='l2', random_state=None, tol=0.0001,\n",
      "     verbose=0):\n",
      "             precision    recall  f1-score   support\n",
      "\n",
      "          0       1.00      0.94      0.97        34\n",
      "          1       0.78      0.81      0.79        36\n",
      "          2       0.97      1.00      0.99        35\n",
      "          3       0.81      0.70      0.75        37\n",
      "          4       0.89      0.92      0.91        37\n",
      "          5       0.92      0.97      0.95        37\n",
      "          6       0.97      1.00      0.99        37\n",
      "          7       0.92      0.94      0.93        36\n",
      "          8       0.83      0.81      0.82        31\n",
      "          9       0.78      0.80      0.79        35\n",
      "\n",
      "avg / total       0.89      0.89      0.89       355\n",
      "\n",
      "\n",
      "Confusion matrix:\n",
      "[[32  0  0  0  1  0  1  0  0  0]\n",
      " [ 0 29  0  2  1  0  0  0  0  4]\n",
      " [ 0  0 35  0  0  0  0  0  0  0]\n",
      " [ 0  1  1 26  0  3  0  2  4  0]\n",
      " [ 0  0  0  0 34  0  0  0  0  3]\n",
      " [ 0  1  0  0  0 36  0  0  0  0]\n",
      " [ 0  0  0  0  0  0 37  0  0  0]\n",
      " [ 0  0  0  0  1  0  0 34  1  0]\n",
      " [ 0  4  0  0  1  0  0  0 25  1]\n",
      " [ 0  2  0  4  0  0  0  1  0 28]]\n"
     ]
    }
   ],
   "source": [
    "# Creamos el clasificador\n",
    "classifier3 = svm.LinearSVC()\n",
    "\n",
    "# Entrenamos el clasificador\n",
    "classifier3.fit(X_train, y_train)\n",
    "\n",
    "# Predecimos \n",
    "predicted = classifier3.predict(X_test)\n",
    "\n",
    "# Las siguientes matrices nos indican el nivel de precisión de la predicción\n",
    "print(\"Classification report for classifier %s:\\n%s\\n\"\n",
    "      % (classifier3, metrics.classification_report(y_test, predicted)))\n",
    "print(\"Confusion matrix:\\n%s\" % metrics.confusion_matrix(y_test, predicted))"
   ]
  },
  {
   "cell_type": "markdown",
   "metadata": {},
   "source": [
    "### Conclusiones"
   ]
  },
  {
   "cell_type": "markdown",
   "metadata": {},
   "source": [
    "Como podemos comprobar el modelo que mejor precide es el primero. Por lo cual cogeremos ese modelo para el ejercicio número 2."
   ]
  },
  {
   "cell_type": "markdown",
   "metadata": {},
   "source": [
    "<h1 align = \"center\" style=\"background-color:powderblue;\"> EJERCICIO 2: Elige 5 números que no hayas usado ni para entrenar el modelo, ni para evaluarlo y clasifícalas. Usa para ello el modelo que mejor clasifique de los del punto anterior. Índica con que error ha funcionado el clasificador. </h1>"
   ]
  },
  {
   "cell_type": "markdown",
   "metadata": {},
   "source": [
    "Predecimos con el modelo número 1."
   ]
  },
  {
   "cell_type": "markdown",
   "metadata": {},
   "source": [
    "No se puede calcular el error ya que, se supone que son datos completamente nuevos que no hemos utilizado, por lo cual no tendríamos la salida correcta."
   ]
  },
  {
   "cell_type": "code",
   "execution_count": 184,
   "metadata": {},
   "outputs": [
    {
     "data": {
      "text/plain": [
       "array([9, 0, 8, 9, 8])"
      ]
     },
     "execution_count": 184,
     "metadata": {},
     "output_type": "execute_result"
    }
   ],
   "source": [
    "prediccion = classifier1.predict(X_Ej2)\n",
    "prediccion"
   ]
  },
  {
   "cell_type": "code",
   "execution_count": 185,
   "metadata": {},
   "outputs": [
    {
     "name": "stdout",
     "output_type": "stream",
     "text": [
      "El modelo dice que es un:  9\n"
     ]
    },
    {
     "data": {
      "text/plain": [
       "<Figure size 432x288 with 0 Axes>"
      ]
     },
     "metadata": {},
     "output_type": "display_data"
    },
    {
     "data": {
      "image/png": "[encoded data removed]",
      "text/plain": [
       "<Figure size 288x288 with 1 Axes>"
      ]
     },
     "metadata": {},
     "output_type": "display_data"
    },
    {
     "name": "stdout",
     "output_type": "stream",
     "text": [
      "El modelo dice que es un:  0\n"
     ]
    },
    {
     "data": {
      "text/plain": [
       "<Figure size 432x288 with 0 Axes>"
      ]
     },
     "metadata": {},
     "output_type": "display_data"
    },
    {
     "data": {
      "image/png": "[encoded data removed]",
      "text/plain": [
       "<Figure size 288x288 with 1 Axes>"
      ]
     },
     "metadata": {},
     "output_type": "display_data"
    },
    {
     "name": "stdout",
     "output_type": "stream",
     "text": [
      "El modelo dice que es un:  8\n"
     ]
    },
    {
     "data": {
      "text/plain": [
       "<Figure size 432x288 with 0 Axes>"
      ]
     },
     "metadata": {},
     "output_type": "display_data"
    },
    {
     "data": {
      "image/png": "[encoded data removed]",
      "text/plain": [
       "<Figure size 288x288 with 1 Axes>"
      ]
     },
     "metadata": {},
     "output_type": "display_data"
    },
    {
     "name": "stdout",
     "output_type": "stream",
     "text": [
      "El modelo dice que es un:  9\n"
     ]
    },
    {
     "data": {
      "text/plain": [
       "<Figure size 432x288 with 0 Axes>"
      ]
     },
     "metadata": {},
     "output_type": "display_data"
    },
    {
     "data": {
      "image/png": "[encoded data removed]",
      "text/plain": [
       "<Figure size 288x288 with 1 Axes>"
      ]
     },
     "metadata": {},
     "output_type": "display_data"
    },
    {
     "name": "stdout",
     "output_type": "stream",
     "text": [
      "El modelo dice que es un:  8\n"
     ]
    },
    {
     "data": {
      "text/plain": [
       "<Figure size 432x288 with 0 Axes>"
      ]
     },
     "metadata": {},
     "output_type": "display_data"
    },
    {
     "data": {
      "image/png": "[encoded data removed]",
      "text/plain": [
       "<Figure size 288x288 with 1 Axes>"
      ]
     },
     "metadata": {},
     "output_type": "display_data"
    }
   ],
   "source": [
    "Datos = X_Ej2.reshape(len(X_Ej2), 8,8)\n",
    "## Pintamos un digito de ejemplo\n",
    "\n",
    "for i in range (0,len(Datos)):\n",
    "    \n",
    "    print('El modelo dice que es un: ' ,prediccion[i])\n",
    "    #Dibujamos los datos que hemos predecido\n",
    "    plt.gray() \n",
    "    plt.matshow(Datos[i]) \n",
    "    plt.show() "
   ]
  },
  {
   "cell_type": "markdown",
   "metadata": {},
   "source": [
    "<h1 align = \"center\" style=\"background-color:powderblue;\"> Bibliografía</h1>"
   ]
  },
  {
   "cell_type": "markdown",
   "metadata": {},
   "source": [
    "SVC: https://scikit-learn.org/stable/modules/svm.html\n",
    "\n",
    "SVC: https://scikit-learn.org/stable/modules/generated/sklearn.svm.LinearSVC.html"
   ]
  }
 ],
 "metadata": {
  "kernelspec": {
   "display_name": "Python 3",
   "language": "python",
   "name": "python3"
  },
  "language_info": {
   "codemirror_mode": {
    "name": "ipython",
    "version": 3
   },
   "file_extension": ".py",
   "mimetype": "text/x-python",
   "name": "python",
   "nbconvert_exporter": "python",
   "pygments_lexer": "ipython3",
   "version": "3.7.3"
  }
 },
 "nbformat": 4,
 "nbformat_minor": 2
}
